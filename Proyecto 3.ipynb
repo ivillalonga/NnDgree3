{
  "nbformat": 4,
  "nbformat_minor": 0,
  "metadata": {
    "colab": {
      "name": "Untitled2.ipynb",
      "provenance": [],
      "collapsed_sections": []
    },
    "kernelspec": {
      "name": "python3",
      "display_name": "Python 3"
    }
  },
  "cells": [
    {
      "cell_type": "markdown",
      "metadata": {
        "id": "RXp3JRuGL76v"
      },
      "source": [
        "# Questions"
      ]
    },
    {
      "cell_type": "markdown",
      "metadata": {
        "id": "kxb1shrlMAoc"
      },
      "source": [
        "1. What is our **independent variable**? What is our **dependent variable**?\r\n",
        "2. What is an **appropriate set of hypotheses** for this task? What kind of **statistical test** do you expect to perform? Justify your choices.\r\n",
        "3. **Report some descriptive statistics** regarding this dataset. Include at least one measure of central tendency and at least one measure of variability.\r\n",
        "4. **Provide one or two visualizations** that show the distribution of the sample data. Write one or two sentences noting what you observe about the plot or plots.\r\n",
        "5. Now, **perform the statistical test and report your results**. What is your **confidence level and your critical statistic value**? Do you reject the null hypothesis or fail to reject it? **Come to a conclusion** in terms of the experiment task. Did the results match up with your expectations?\r\n",
        "6. Optional: What do you think is responsible for the effects observed? Can you think of an alternative or similar task that would result in a similar effect? Some research about the problem will be helpful for thinking about these two questions!\r\n"
      ]
    },
    {
      "cell_type": "markdown",
      "metadata": {
        "id": "qX1bDyj-MgRN"
      },
      "source": [
        "**1.** An independent variable is a variable that changes or is controlled in an experiment to test the effects on the dependent variable.\r\n",
        "\r\n",
        "In our experiment, the independant refers to the color of the ink, while the dependant variable is the time taken to name the color. "
      ]
    },
    {
      "cell_type": "markdown",
      "metadata": {
        "id": "1uz98BcRNQym"
      },
      "source": [
        "**2**. The hypothesis in the current test is: Incogruent words require more time to be identified, because the words do not match the color in which are printed. This incongruency implies more effort, and therefore, more time.\r\n",
        "\r\n",
        "This means that the null hypothesis is: Average time spent on words with an incogruent color is not longer than the average time spent on words that match with the color that are print (congruent words)\r\n",
        "\r\n",
        "And the alternative Hypothesis is: Average time spent on incongruent words is longer than the average time spent on congruent words\r\n",
        "\r\n",
        "$ H_0: $ There is no difference in response time under incongruent and congruent conditions ( $ H_0: μC = μI $).\r\n",
        "\r\n",
        "\r\n",
        "$ H_1: $ Time with incongruent condition will be **significantly** larger than the response time with congruent condition ( $ H_1: μC < μI $ )."
      ]
    },
    {
      "cell_type": "markdown",
      "metadata": {
        "id": "6ICTIXsLQeH4"
      },
      "source": [
        "**3.** Descriptive statistics"
      ]
    },
    {
      "cell_type": "code",
      "metadata": {
        "colab": {
          "base_uri": "https://localhost:8080/",
          "height": 204
        },
        "id": "tCW1nsc8QXzc",
        "outputId": "cf43b1e2-9ce9-459d-9a0b-734100c85ac7"
      },
      "source": [
        "#Import Required modules\r\n",
        "import pandas as pd\r\n",
        "import numpy as np\r\n",
        "from scipy import stats\r\n",
        "import matplotlib.pyplot as plt\r\n",
        "import seaborn as sns\r\n",
        "import math\r\n",
        "%matplotlib inline\r\n",
        "\r\n",
        "# Read data\r\n",
        "df = pd.read_csv('stroopdata.csv')\r\n",
        "df.head()"
      ],
      "execution_count": 2,
      "outputs": [
        {
          "output_type": "execute_result",
          "data": {
            "text/html": [
              "<div>\n",
              "<style scoped>\n",
              "    .dataframe tbody tr th:only-of-type {\n",
              "        vertical-align: middle;\n",
              "    }\n",
              "\n",
              "    .dataframe tbody tr th {\n",
              "        vertical-align: top;\n",
              "    }\n",
              "\n",
              "    .dataframe thead th {\n",
              "        text-align: right;\n",
              "    }\n",
              "</style>\n",
              "<table border=\"1\" class=\"dataframe\">\n",
              "  <thead>\n",
              "    <tr style=\"text-align: right;\">\n",
              "      <th></th>\n",
              "      <th>Congruent</th>\n",
              "      <th>Incongruent</th>\n",
              "    </tr>\n",
              "  </thead>\n",
              "  <tbody>\n",
              "    <tr>\n",
              "      <th>0</th>\n",
              "      <td>12.079</td>\n",
              "      <td>19.278</td>\n",
              "    </tr>\n",
              "    <tr>\n",
              "      <th>1</th>\n",
              "      <td>16.791</td>\n",
              "      <td>18.741</td>\n",
              "    </tr>\n",
              "    <tr>\n",
              "      <th>2</th>\n",
              "      <td>9.564</td>\n",
              "      <td>21.214</td>\n",
              "    </tr>\n",
              "    <tr>\n",
              "      <th>3</th>\n",
              "      <td>8.630</td>\n",
              "      <td>15.687</td>\n",
              "    </tr>\n",
              "    <tr>\n",
              "      <th>4</th>\n",
              "      <td>14.669</td>\n",
              "      <td>22.803</td>\n",
              "    </tr>\n",
              "  </tbody>\n",
              "</table>\n",
              "</div>"
            ],
            "text/plain": [
              "   Congruent  Incongruent\n",
              "0     12.079       19.278\n",
              "1     16.791       18.741\n",
              "2      9.564       21.214\n",
              "3      8.630       15.687\n",
              "4     14.669       22.803"
            ]
          },
          "metadata": {
            "tags": []
          },
          "execution_count": 2
        }
      ]
    },
    {
      "cell_type": "code",
      "metadata": {
        "id": "Ae8AwlOhU6D9"
      },
      "source": [
        "#Mean\r\n",
        "con_mean = df['Congruent'].mean()\r\n",
        "inc_mean = df['Incongruent'].mean()\r\n",
        "\r\n",
        "#median\r\n",
        "con_median = df['Congruent'].median()\r\n",
        "inc_median = df['Incongruent'].median()\r\n",
        "\r\n",
        "#deviation\r\n",
        "con_std = df['Congruent'].std()\r\n",
        "inc_std = df['Incongruent'].std()\r\n"
      ],
      "execution_count": 5,
      "outputs": []
    },
    {
      "cell_type": "code",
      "metadata": {
        "colab": {
          "base_uri": "https://localhost:8080/"
        },
        "id": "jLFlXCEXVG4h",
        "outputId": "487c1b98-427f-465c-ef89-70ca96fd9418"
      },
      "source": [
        "print (\"Variable             \", \"Congruent       \", \"Incongruent\")\r\n",
        "print (\"Means                \", con_mean, inc_mean)\r\n",
        "print (\"Medians              \", con_median, inc_median)\r\n",
        "print (\"Standard Desviations \", con_std, inc_std)"
      ],
      "execution_count": 15,
      "outputs": [
        {
          "output_type": "stream",
          "text": [
            "variable              Congruent        Incongruent\n",
            "Means                 14.051125000000004 22.01591666666667\n",
            "Medians               14.3565 21.0175\n",
            "Standard Desviations  3.559357957645195 4.797057122469138\n"
          ],
          "name": "stdout"
        }
      ]
    }
  ]
}