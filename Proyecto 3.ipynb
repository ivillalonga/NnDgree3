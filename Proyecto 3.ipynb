{
  "nbformat": 4,
  "nbformat_minor": 0,
  "metadata": {
    "colab": {
      "name": "Untitled2.ipynb",
      "provenance": [],
      "collapsed_sections": [],
      "toc_visible": true,
      "include_colab_link": true
    },
    "kernelspec": {
      "name": "python3",
      "display_name": "Python 3"
    }
  },
  "cells": [
    {
      "cell_type": "markdown",
      "metadata": {
        "id": "view-in-github",
        "colab_type": "text"
      },
      "source": [
        "<a href=\"https://colab.research.google.com/github/ivillalonga/NnDgree3/blob/main/Proyecto%203.ipynb\" target=\"_parent\"><img src=\"https://colab.research.google.com/assets/colab-badge.svg\" alt=\"Open In Colab\"/></a>"
      ]
    },
    {
      "cell_type": "markdown",
      "metadata": {
        "id": "RXp3JRuGL76v"
      },
      "source": [
        "# Questions"
      ]
    },
    {
      "cell_type": "markdown",
      "metadata": {
        "id": "kxb1shrlMAoc"
      },
      "source": [
        "1. What is our **independent variable**? What is our **dependent variable**?\r\n",
        "2. What is an **appropriate set of hypotheses** for this task? What kind of **statistical test** do you expect to perform? Justify your choices.\r\n",
        "3. **Report some descriptive statistics** regarding this dataset. Include at least one measure of central tendency and at least one measure of variability.\r\n",
        "4. **Provide one or two visualizations** that show the distribution of the sample data. Write one or two sentences noting what you observe about the plot or plots.\r\n",
        "5. Now, **perform the statistical test and report your results**. What is your **confidence level and your critical statistic value**? Do you reject the null hypothesis or fail to reject it? **Come to a conclusion** in terms of the experiment task. Did the results match up with your expectations?\r\n",
        "6. Optional: What do you think is responsible for the effects observed? Can you think of an alternative or similar task that would result in a similar effect? Some research about the problem will be helpful for thinking about these two questions!\r\n"
      ]
    },
    {
      "cell_type": "markdown",
      "metadata": {
        "id": "qX1bDyj-MgRN"
      },
      "source": [
        "**1.** An independent variable is a variable that changes or is controlled in an experiment to test the effects on the dependent variable.\r\n",
        "\r\n",
        "In our experiment, the independant refers to the color of the ink, while the dependant variable is the time taken to name the color. "
      ]
    },
    {
      "cell_type": "markdown",
      "metadata": {
        "id": "1uz98BcRNQym"
      },
      "source": [
        "**2**. The hypothesis in the current test is: Incogruent words require more time to be identified, because the words do not match the color in which are printed. This incongruency implies more effort, and therefore, more time.\r\n",
        "\r\n",
        "This means that the null hypothesis is: Average time spent on words with an incogruent color is not longer than the average time spent on words that match with the color that are print (congruent words)\r\n",
        "\r\n",
        "And the alternative Hypothesis is: Average time spent on incongruent words is longer than the average time spent on congruent words\r\n",
        "\r\n",
        "$ H_0: $ There is no difference in response time under incongruent and congruent conditions ( $ H_0: μC = μI $).\r\n",
        "\r\n",
        "\r\n",
        "$ H_1: $ Time with incongruent condition will be **significantly** larger than the response time with congruent condition ( $ H_1: μC < μI $ )."
      ]
    },
    {
      "cell_type": "markdown",
      "metadata": {
        "id": "6ICTIXsLQeH4"
      },
      "source": [
        "**3.** Descriptive statistics"
      ]
    },
    {
      "cell_type": "code",
      "metadata": {
        "colab": {
          "base_uri": "https://localhost:8080/",
          "height": 198
        },
        "id": "tCW1nsc8QXzc",
        "outputId": "c042026c-0fa7-4be1-f350-51e48f938fec"
      },
      "source": [
        "#Import Required modules\r\n",
        "import pandas as pd\r\n",
        "import numpy as np\r\n",
        "from scipy import stats as pt\r\n",
        "import matplotlib.pyplot as plt\r\n",
        "import seaborn as sns\r\n",
        "import math\r\n",
        "%matplotlib inline\r\n",
        "\r\n",
        "# Read data\r\n",
        "df = pd.read_csv('stroopdata.csv')\r\n",
        "df.head()"
      ],
      "execution_count": 1,
      "outputs": [
        {
          "output_type": "execute_result",
          "data": {
            "text/html": [
              "<div>\n",
              "<style scoped>\n",
              "    .dataframe tbody tr th:only-of-type {\n",
              "        vertical-align: middle;\n",
              "    }\n",
              "\n",
              "    .dataframe tbody tr th {\n",
              "        vertical-align: top;\n",
              "    }\n",
              "\n",
              "    .dataframe thead th {\n",
              "        text-align: right;\n",
              "    }\n",
              "</style>\n",
              "<table border=\"1\" class=\"dataframe\">\n",
              "  <thead>\n",
              "    <tr style=\"text-align: right;\">\n",
              "      <th></th>\n",
              "      <th>Congruent</th>\n",
              "      <th>Incongruent</th>\n",
              "    </tr>\n",
              "  </thead>\n",
              "  <tbody>\n",
              "    <tr>\n",
              "      <th>0</th>\n",
              "      <td>12.079</td>\n",
              "      <td>19.278</td>\n",
              "    </tr>\n",
              "    <tr>\n",
              "      <th>1</th>\n",
              "      <td>16.791</td>\n",
              "      <td>18.741</td>\n",
              "    </tr>\n",
              "    <tr>\n",
              "      <th>2</th>\n",
              "      <td>9.564</td>\n",
              "      <td>21.214</td>\n",
              "    </tr>\n",
              "    <tr>\n",
              "      <th>3</th>\n",
              "      <td>8.630</td>\n",
              "      <td>15.687</td>\n",
              "    </tr>\n",
              "    <tr>\n",
              "      <th>4</th>\n",
              "      <td>14.669</td>\n",
              "      <td>22.803</td>\n",
              "    </tr>\n",
              "  </tbody>\n",
              "</table>\n",
              "</div>"
            ],
            "text/plain": [
              "   Congruent  Incongruent\n",
              "0     12.079       19.278\n",
              "1     16.791       18.741\n",
              "2      9.564       21.214\n",
              "3      8.630       15.687\n",
              "4     14.669       22.803"
            ]
          },
          "metadata": {
            "tags": []
          },
          "execution_count": 1
        }
      ]
    },
    {
      "cell_type": "code",
      "metadata": {
        "id": "Ae8AwlOhU6D9"
      },
      "source": [
        "#Mean\r\n",
        "con_mean = df['Congruent'].mean()\r\n",
        "inc_mean = df['Incongruent'].mean()\r\n",
        "\r\n",
        "#median\r\n",
        "con_median = df['Congruent'].median()\r\n",
        "inc_median = df['Incongruent'].median()\r\n",
        "\r\n",
        "#deviation\r\n",
        "con_std = df['Congruent'].std()\r\n",
        "inc_std = df['Incongruent'].std()\r\n"
      ],
      "execution_count": 2,
      "outputs": []
    },
    {
      "cell_type": "code",
      "metadata": {
        "colab": {
          "base_uri": "https://localhost:8080/"
        },
        "id": "jLFlXCEXVG4h",
        "outputId": "e1481aa7-7524-4cfa-ec8c-8426b42c2450"
      },
      "source": [
        "print (\"Variable             \", \"Congruent         \", \"Incongruent\")\r\n",
        "print (\"Means                \", con_mean, inc_mean)\r\n",
        "print (\"Medians              \", con_median,\"          \", inc_median)\r\n",
        "print (\"Standard Desviations \", con_std,\"\", inc_std)"
      ],
      "execution_count": 9,
      "outputs": [
        {
          "output_type": "stream",
          "text": [
            "Variable              Congruent          Incongruent\n",
            "Means                 14.051125000000004 22.01591666666667\n",
            "Medians               14.3565            21.0175\n",
            "Standard Desviations  3.559357957645195  4.797057122469138\n"
          ],
          "name": "stdout"
        }
      ]
    },
    {
      "cell_type": "code",
      "metadata": {
        "colab": {
          "base_uri": "https://localhost:8080/",
          "height": 288
        },
        "id": "mFbSDaoIQhVV",
        "outputId": "11ab53d6-0413-4624-98ba-acb8810bd30b"
      },
      "source": [
        "# General - Other Visualization\r\n",
        "df.describe()"
      ],
      "execution_count": 10,
      "outputs": [
        {
          "output_type": "execute_result",
          "data": {
            "text/html": [
              "<div>\n",
              "<style scoped>\n",
              "    .dataframe tbody tr th:only-of-type {\n",
              "        vertical-align: middle;\n",
              "    }\n",
              "\n",
              "    .dataframe tbody tr th {\n",
              "        vertical-align: top;\n",
              "    }\n",
              "\n",
              "    .dataframe thead th {\n",
              "        text-align: right;\n",
              "    }\n",
              "</style>\n",
              "<table border=\"1\" class=\"dataframe\">\n",
              "  <thead>\n",
              "    <tr style=\"text-align: right;\">\n",
              "      <th></th>\n",
              "      <th>Congruent</th>\n",
              "      <th>Incongruent</th>\n",
              "    </tr>\n",
              "  </thead>\n",
              "  <tbody>\n",
              "    <tr>\n",
              "      <th>count</th>\n",
              "      <td>24.000000</td>\n",
              "      <td>24.000000</td>\n",
              "    </tr>\n",
              "    <tr>\n",
              "      <th>mean</th>\n",
              "      <td>14.051125</td>\n",
              "      <td>22.015917</td>\n",
              "    </tr>\n",
              "    <tr>\n",
              "      <th>std</th>\n",
              "      <td>3.559358</td>\n",
              "      <td>4.797057</td>\n",
              "    </tr>\n",
              "    <tr>\n",
              "      <th>min</th>\n",
              "      <td>8.630000</td>\n",
              "      <td>15.687000</td>\n",
              "    </tr>\n",
              "    <tr>\n",
              "      <th>25%</th>\n",
              "      <td>11.895250</td>\n",
              "      <td>18.716750</td>\n",
              "    </tr>\n",
              "    <tr>\n",
              "      <th>50%</th>\n",
              "      <td>14.356500</td>\n",
              "      <td>21.017500</td>\n",
              "    </tr>\n",
              "    <tr>\n",
              "      <th>75%</th>\n",
              "      <td>16.200750</td>\n",
              "      <td>24.051500</td>\n",
              "    </tr>\n",
              "    <tr>\n",
              "      <th>max</th>\n",
              "      <td>22.328000</td>\n",
              "      <td>35.255000</td>\n",
              "    </tr>\n",
              "  </tbody>\n",
              "</table>\n",
              "</div>"
            ],
            "text/plain": [
              "       Congruent  Incongruent\n",
              "count  24.000000    24.000000\n",
              "mean   14.051125    22.015917\n",
              "std     3.559358     4.797057\n",
              "min     8.630000    15.687000\n",
              "25%    11.895250    18.716750\n",
              "50%    14.356500    21.017500\n",
              "75%    16.200750    24.051500\n",
              "max    22.328000    35.255000"
            ]
          },
          "metadata": {
            "tags": []
          },
          "execution_count": 10
        }
      ]
    },
    {
      "cell_type": "markdown",
      "metadata": {
        "id": "BaWIyRHERLEU"
      },
      "source": [
        "Clearly, there is a deviation in the response time por the incogruent words, which is something that we are going to see more precisely in the following charts.\r\n"
      ]
    },
    {
      "cell_type": "markdown",
      "metadata": {
        "id": "t3RM1i9hSov3"
      },
      "source": [
        "**4.** Charts"
      ]
    },
    {
      "cell_type": "code",
      "metadata": {
        "colab": {
          "base_uri": "https://localhost:8080/",
          "height": 265
        },
        "id": "kMUhyvoYSumP",
        "outputId": "deed7057-1582-4b1e-bd3f-190b6a850209"
      },
      "source": [
        "#Visualization 1\r\n",
        "sns.set_style(\"whitegrid\")\r\n",
        "sns.boxplot(data=df[['Congruent', 'Incongruent']], orient=\"v\",width=0.4, palette=\"colorblind\");\r\n",
        "plt.ylabel(\"Time\");"
      ],
      "execution_count": 28,
      "outputs": [
        {
          "output_type": "display_data",
          "data": {
            "image/png": "[encoded data removed]",
            "text/plain": [
              "<Figure size 432x288 with 1 Axes>"
            ]
          },
          "metadata": {
            "tags": []
          }
        }
      ]
    },
    {
      "cell_type": "code",
      "metadata": {
        "colab": {
          "base_uri": "https://localhost:8080/",
          "height": 398
        },
        "id": "pH_TvnmgS7H9",
        "outputId": "fa8209f0-0c98-4841-f7e9-dd90d4773995"
      },
      "source": [
        "# Visualization 2\r\n",
        "fig, ax = plt.subplots(1, 1, figsize = (4, 3), dpi=100)\r\n",
        "sns.distplot(df['Congruent'], color = 'g', label=\"Congruent\")\r\n",
        "sns.distplot(df['Incongruent'], color = 'r', label=\"Incongruent\")\r\n",
        "plt.legend()\r\n",
        "plt.ylabel(\"Frequency\")\r\n",
        "ax.set_xlabel('')"
      ],
      "execution_count": 26,
      "outputs": [
        {
          "output_type": "stream",
          "text": [
            "/usr/local/lib/python3.6/dist-packages/seaborn/distributions.py:2557: FutureWarning: `distplot` is a deprecated function and will be removed in a future version. Please adapt your code to use either `displot` (a figure-level function with similar flexibility) or `histplot` (an axes-level function for histograms).\n",
            "  warnings.warn(msg, FutureWarning)\n",
            "/usr/local/lib/python3.6/dist-packages/seaborn/distributions.py:2557: FutureWarning: `distplot` is a deprecated function and will be removed in a future version. Please adapt your code to use either `displot` (a figure-level function with similar flexibility) or `histplot` (an axes-level function for histograms).\n",
            "  warnings.warn(msg, FutureWarning)\n"
          ],
          "name": "stderr"
        },
        {
          "output_type": "execute_result",
          "data": {
            "text/plain": [
              "Text(0.5, 0, '')"
            ]
          },
          "metadata": {
            "tags": []
          },
          "execution_count": 26
        },
        {
          "output_type": "display_data",
          "data": {
            "image/png": "[encoded data removed]",
            "text/plain": [
              "<Figure size 400x300 with 1 Axes>"
            ]
          },
          "metadata": {
            "tags": []
          }
        }
      ]
    },
    {
      "cell_type": "markdown",
      "metadata": {
        "id": "LTF54sl0ebV_"
      },
      "source": [
        "The two groups form normal distribution curve, with some symmetry. However, the center of incongruent group is displaced to the right. This difference is the delay produced by the extra effort."
      ]
    },
    {
      "cell_type": "markdown",
      "metadata": {
        "id": "9tTKn4vEgYjc"
      },
      "source": [
        "**5.** Statistical test\r\n",
        "\r\n",
        "The test selected is the two tailed **\"t-test\"**:\r\n",
        "\r\n",
        "- The purpose is to find the critical value of ***t*** at 95% confidance level.\r\n",
        "- Sample Size (n) = 24\r\n",
        "- Degree of freedom (DegFree) = n - 1 = 23"
      ]
    },
    {
      "cell_type": "code",
      "metadata": {
        "colab": {
          "base_uri": "https://localhost:8080/"
        },
        "id": "Giuh-IhYiBza",
        "outputId": "2c53850f-81a1-4f86-c748-02fbb0ca4a7b"
      },
      "source": [
        "#t-critical value - 95% confidance\r\n",
        "from scipy.stats import t as pt\r\n",
        "print(pt.ppf(0.95,23))"
      ],
      "execution_count": 31,
      "outputs": [
        {
          "output_type": "stream",
          "text": [
            "1.7138715277470473\n"
          ],
          "name": "stdout"
        }
      ]
    },
    {
      "cell_type": "code",
      "metadata": {
        "colab": {
          "base_uri": "https://localhost:8080/",
          "height": 198
        },
        "id": "2N9Hht_xiw96",
        "outputId": "ea59f3de-d097-44a1-a51d-412c7a7e45e8"
      },
      "source": [
        "#Difference\r\n",
        "df['difference'] = df['Congruent'] - df['Incongruent']\r\n",
        "df.head()"
      ],
      "execution_count": 33,
      "outputs": [
        {
          "output_type": "execute_result",
          "data": {
            "text/html": [
              "<div>\n",
              "<style scoped>\n",
              "    .dataframe tbody tr th:only-of-type {\n",
              "        vertical-align: middle;\n",
              "    }\n",
              "\n",
              "    .dataframe tbody tr th {\n",
              "        vertical-align: top;\n",
              "    }\n",
              "\n",
              "    .dataframe thead th {\n",
              "        text-align: right;\n",
              "    }\n",
              "</style>\n",
              "<table border=\"1\" class=\"dataframe\">\n",
              "  <thead>\n",
              "    <tr style=\"text-align: right;\">\n",
              "      <th></th>\n",
              "      <th>Congruent</th>\n",
              "      <th>Incongruent</th>\n",
              "      <th>difference</th>\n",
              "    </tr>\n",
              "  </thead>\n",
              "  <tbody>\n",
              "    <tr>\n",
              "      <th>0</th>\n",
              "      <td>12.079</td>\n",
              "      <td>19.278</td>\n",
              "      <td>-7.199</td>\n",
              "    </tr>\n",
              "    <tr>\n",
              "      <th>1</th>\n",
              "      <td>16.791</td>\n",
              "      <td>18.741</td>\n",
              "      <td>-1.950</td>\n",
              "    </tr>\n",
              "    <tr>\n",
              "      <th>2</th>\n",
              "      <td>9.564</td>\n",
              "      <td>21.214</td>\n",
              "      <td>-11.650</td>\n",
              "    </tr>\n",
              "    <tr>\n",
              "      <th>3</th>\n",
              "      <td>8.630</td>\n",
              "      <td>15.687</td>\n",
              "      <td>-7.057</td>\n",
              "    </tr>\n",
              "    <tr>\n",
              "      <th>4</th>\n",
              "      <td>14.669</td>\n",
              "      <td>22.803</td>\n",
              "      <td>-8.134</td>\n",
              "    </tr>\n",
              "  </tbody>\n",
              "</table>\n",
              "</div>"
            ],
            "text/plain": [
              "   Congruent  Incongruent  difference\n",
              "0     12.079       19.278      -7.199\n",
              "1     16.791       18.741      -1.950\n",
              "2      9.564       21.214     -11.650\n",
              "3      8.630       15.687      -7.057\n",
              "4     14.669       22.803      -8.134"
            ]
          },
          "metadata": {
            "tags": []
          },
          "execution_count": 33
        }
      ]
    },
    {
      "cell_type": "code",
      "metadata": {
        "colab": {
          "base_uri": "https://localhost:8080/"
        },
        "id": "LLAnNocyi8KX",
        "outputId": "8163971b-30fd-4127-b712-80d572c222e1"
      },
      "source": [
        "#sd and mean of the differenced dataset\r\n",
        "s_std = df['difference'].std()\r\n",
        "print(\"Std Dev of the diffenence\", s_std)\r\n",
        "s_mean = con_mean - inc_mean\r\n",
        "print(\"Difference Mean\", s_mean)"
      ],
      "execution_count": 36,
      "outputs": [
        {
          "output_type": "stream",
          "text": [
            "Std Dev of the diffenence 4.864826910359056\n",
            "Difference Mean -7.964791666666665\n"
          ],
          "name": "stdout"
        }
      ]
    },
    {
      "cell_type": "code",
      "metadata": {
        "colab": {
          "base_uri": "https://localhost:8080/"
        },
        "id": "vCSxqarAkyZd",
        "outputId": "ddc0b80f-1307-4f14-a899-65e583664dde"
      },
      "source": [
        "# t-value\r\n",
        "t_value = s_mean/(s_std/math.sqrt(24))\r\n",
        "print(\"t-value \",t_value)"
      ],
      "execution_count": 37,
      "outputs": [
        {
          "output_type": "stream",
          "text": [
            "t-value  -8.020706944109955\n"
          ],
          "name": "stdout"
        }
      ]
    },
    {
      "cell_type": "markdown",
      "metadata": {
        "id": "QbsKB9ilmSs0"
      },
      "source": [
        "t-statistic is -8.0207 for the difference, which is significantly lower than the t-critical value. \r\n",
        "The null hypothesis is rejected.\r\n",
        "Considering α = 0.05, the time spent on naminge colours between congruent and incongruent words is considerably different. The result confirms what the experience expected.."
      ]
    },
    {
      "cell_type": "markdown",
      "metadata": {
        "id": "yuHTFjHJnDQR"
      },
      "source": [
        "**6.** There are various theories about the reason behind. In my case, I would support the Speed of processing theory, that states that we can process written words faster than we can process colors. Thus, it is difficult to identify the color once we’ve already read the word.\r\n",
        "\r\n",
        "\r\n",
        "https://lesley.edu/article/what-the-stroop-effect-reveals-about-our-minds#:~:text=Stroop%20found%20that%20subjects%20took,printed%20word%20in%20experiment%20one.\r\n"
      ]
    }
  ]
}